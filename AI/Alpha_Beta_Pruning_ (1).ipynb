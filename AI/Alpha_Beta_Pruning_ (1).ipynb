{
  "nbformat": 4,
  "nbformat_minor": 0,
  "metadata": {
    "colab": {
      "name": "Alpha_Beta_Pruning  .ipynb",
      "provenance": []
    },
    "kernelspec": {
      "name": "python3",
      "display_name": "Python 3"
    },
    "language_info": {
      "name": "python"
    }
  },
  "cells": [
    {
      "cell_type": "code",
      "metadata": {
        "id": "aVEutkPbUMyI"
      },
      "source": [
        "MAX, MIN = 1000, -1000 \n",
        "def minimax(depth, nodeIndex, maximizingPlayer,values, alpha, beta):\n",
        "  if depth == 3:  \n",
        "    return values[nodeIndex]  \n",
        "\n",
        "  if maximizingPlayer:  \n",
        "    best = MIN \n",
        "    for i in range(0, 2):  \n",
        "      val = minimax(depth + 1, nodeIndex * 2 + i,False, values, alpha, beta)\n",
        "      best = max(best, val)  \n",
        "      alpha = max(alpha, best)  \n",
        "      if beta <= alpha:  \n",
        "        break\n",
        "    return best  \n",
        "  else:\n",
        "    best = MAX \n",
        "    for i in range(0, 2):  \n",
        "      val = minimax(depth + 1, nodeIndex * 2 + i,True, values, alpha, beta)\n",
        "      best = min(best, val)  \n",
        "      beta = min(beta, best)  \n",
        "      if beta <= alpha: \n",
        "        break\n",
        "    return best    \n"
      ],
      "execution_count": null,
      "outputs": []
    },
    {
      "cell_type": "code",
      "metadata": {
        "colab": {
          "base_uri": "https://localhost:8080/"
        },
        "id": "vp-NbZfbWBAb",
        "outputId": "c188c581-3bdc-447d-c4a1-b0d3f784c480"
      },
      "source": [
        "if __name__ == \"__main__\":  \n",
        "  values = [3, 5, 6, 9, 1, 2, 0, -1]   \n",
        "  print(\"The optimal value is :\", minimax(0, 0, True, values, MIN, MAX))"
      ],
      "execution_count": null,
      "outputs": [
        {
          "output_type": "stream",
          "name": "stdout",
          "text": [
            "The optimal value is : 5\n"
          ]
        }
      ]
    },
    {
      "cell_type": "code",
      "metadata": {
        "id": "DIPMM3IDWSW_"
      },
      "source": [
        ""
      ],
      "execution_count": null,
      "outputs": []
    }
  ]
}